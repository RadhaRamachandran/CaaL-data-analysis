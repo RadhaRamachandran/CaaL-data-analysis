{
 "cells": [
  {
   "cell_type": "markdown",
   "metadata": {},
   "source": [
    "# Large Data Analytics \n",
    "## Part 1: Ordinary Least Squares\n",
    "\n",
    "This is Part 1 of ipython notebook that illustrates 'Large Data Analytics' based on a the material from a course taught by *Todd Munson* and *Stefan Wild*.  The concrete examples in this notebook use energy data for the University of Chicago buildings."
   ]
  },
  {
   "cell_type": "markdown",
   "metadata": {},
   "source": [
    "## Sections\n",
    "- [Introduction](#intro)\n",
    "- [What is ordinary least square (OLS)](#ols-intro)\n",
    "- [Dataset](#dataset)\n",
    "- [Import data into ipython notebook](#import-data)\n",
    "- [Pick building and term to work on](#building)\n",
    "- [Calculating OLS using IPython](#ols)\n",
    "    - [Example 1: Effect of Temperature on Energy Use](#ols)\n",
    "        - [Basic Algorithm](#basic)\n",
    "        - [First Algorithm for small variables](#first)\n",
    "        - [Second Algorithm for small variables](#second)\n",
    "        - [Comparison with inbuilt methods](#section)\n",
    "    \n",
    "    \n",
    "-----------------"
   ]
  },
  {
   "cell_type": "markdown",
   "metadata": {},
   "source": [
    "<a id='intro'></a>"
   ]
  },
  {
   "cell_type": "markdown",
   "metadata": {},
   "source": [
    "## Introduction\n",
    "\n",
    "Data is being collected at an astonishing rate by corporations to determine, for example, customer preferences in order to target advertising.  Scientific experiments and simulations also generate vast amounts of data to be analyzed to make discoveries, such as confirmation of the Higgs boson from experimental data collected by the Large Hadron Collider.\n",
    "\n",
    "#### Where does data come from?\n",
    "- Companies like Google and Netflix\n",
    "- Large data sets associated with network traffic\n",
    "- Scientific experiments like fluid flow simulations\n",
    "- Measured data from sensors and experiments \n",
    "\n",
    "**In this illustration: we will use electricity meter data from University of Chicago buildings**\n",
    "\n",
    "#### What do analysts do with the data?\n",
    "- Marketing, making recommendations\n",
    "- Estimating human behavior and finding anomalies\n",
    "- System state estimation\n",
    "- Inverse problems\n",
    "\n",
    "#### What techniques do analysis apply?\n",
    "- Feature extraction and machine learning\n",
    "- Regression models and classification\n",
    "- Data assimilation\n",
    "\n",
    "#### Why is big data hard?\n",
    "- Real data is messy\n",
    "- Online updates to the data\n",
    "- Need to tradeoff complexity and data access\n",
    "- Few complete passes through the data allowed\n",
    "- Sometimes access each piece of data only once\n",
    "- May not be able look at some data at all\n",
    "\n",
    "------------------------"
   ]
  },
  {
   "cell_type": "markdown",
   "metadata": {},
   "source": [
    "<a id = \"ols-intro\"></a>"
   ]
  },
  {
   "cell_type": "markdown",
   "metadata": {},
   "source": [
    "## What is regression and ordinary least squares (OLS)?\n",
    "\n",
    "Regression is a technique for explaining the relationship between parameters (inputs) and observations (outputs).  One example is to determine the relationship between temperature and humidity (inputs) and energy usage (output) based on recorded historical data contains measurements of the temperature, humidity, and energy usage.  If the regression is good, then we can then use the discerned relationship to predict the energy usage today based on the current temperature and humidity.\n",
    "\n",
    "Ordinary least squares is a regression method that posits a linear relationship between the inputs and outputs.  Often, the data is not perfectly represented by a linear relationship and we calculate the best linear relationship by minimizing the sum of the squared errors between the linear model and the observations.  Hence, the name least squares.\n",
    "\n",
    "The sum of squared errors is not always appropriate and we may use different measures, such as the worst error.  When the data is not well represented by a linear relationship, nonlinear models can be applied.  In either case, regression method changes and we would no longer be using ordinary least squares.\n",
    "\n",
    "For this notebook, we will restrict our regression methods to ordinary least squares.\n",
    "\n",
    "-----------------------"
   ]
  },
  {
   "cell_type": "markdown",
   "metadata": {},
   "source": [
    "<a id=\"dataset\"></a>"
   ]
  },
  {
   "cell_type": "markdown",
   "metadata": {},
   "source": [
    "## Dataset\n",
    "\n",
    "In 2015, the 160 University of Chicago campus buildings and grounds used $40 million worth of energy. Analyzing the data trends will help improve our understanding of campus energy usage and increase energy efficiency!\n",
    "\n",
    "Dataset consists of the following:\n",
    "\n",
    "- Campus electricity data for 7 buildings (294 meters) from 2014 to 2016, at 15 minute intervals.\n",
    "\n",
    "- Weather station data for the same time interval from Regenstein Weather Station\n",
    "\n",
    "\n",
    "--------------------"
   ]
  },
  {
   "cell_type": "markdown",
   "metadata": {},
   "source": [
    "<a id=\"import-data\"></a>"
   ]
  },
  {
   "cell_type": "markdown",
   "metadata": {},
   "source": [
    "## Import data into ipython notebook"
   ]
  },
  {
   "cell_type": "markdown",
   "metadata": {},
   "source": [
    "#### Import python libraries"
   ]
  },
  {
   "cell_type": "code",
   "execution_count": 1,
   "metadata": {
    "collapsed": true
   },
   "outputs": [],
   "source": [
    "import pandas as pd\n",
    "import numpy as np\n",
    "from numpy import linalg as la\n",
    "import matplotlib.pyplot as plt\n",
    "%matplotlib inline"
   ]
  },
  {
   "cell_type": "markdown",
   "metadata": {},
   "source": [
    "#### Read Files"
   ]
  },
  {
   "cell_type": "code",
   "execution_count": 2,
   "metadata": {
    "collapsed": true
   },
   "outputs": [],
   "source": [
    "df_meter = pd.read_csv('uc_comed_data_cond.csv', header = 'infer')"
   ]
  },
  {
   "cell_type": "code",
   "execution_count": 3,
   "metadata": {
    "collapsed": true
   },
   "outputs": [],
   "source": [
    "df_weather = pd.read_csv('weather_prepared_final.csv')"
   ]
  },
  {
   "cell_type": "markdown",
   "metadata": {},
   "source": [
    "####  Converting date-time"
   ]
  },
  {
   "cell_type": "code",
   "execution_count": 4,
   "metadata": {
    "collapsed": true
   },
   "outputs": [],
   "source": [
    "df_meter['DATETIME'] = pd.to_datetime(df_meter['DATETIME'])\n",
    "df_weather['DATE'] = pd.to_datetime(df_weather['DATE'])"
   ]
  },
  {
   "cell_type": "markdown",
   "metadata": {},
   "source": [
    "------------------"
   ]
  },
  {
   "cell_type": "markdown",
   "metadata": {},
   "source": [
    "<a id='building'></a>"
   ]
  },
  {
   "cell_type": "markdown",
   "metadata": {},
   "source": [
    "## Pick building and term to work on"
   ]
  },
  {
   "cell_type": "markdown",
   "metadata": {},
   "source": [
    "#### Function to choose data based on term, building_name, and weather_station"
   ]
  },
  {
   "cell_type": "code",
   "execution_count": 5,
   "metadata": {
    "collapsed": true
   },
   "outputs": [],
   "source": [
    "def get_data(term, building_name):\n",
    "    ## PICK USAGE DATA BASED ON TERM AND BUILDING_NAME\n",
    "    usage = df_meter[(df_meter['TERM'] == term) & (df_meter['DISCRIPT1'] == building_name)]\n",
    "    \n",
    "    ## GET START AND END DATE OF THE TERM\n",
    "    start_date = usage.iloc[0]['DATETIME']\n",
    "    end_date = usage.iloc[-1]['DATETIME']\n",
    "\n",
    "    \n",
    "    df_bool1 = (df_weather['DATE'] == start_date)\n",
    "    index1 = df_bool1[df_bool1 == True].index.tolist()[0]\n",
    "    \n",
    "    df_bool2 = (df_weather['DATE'] == end_date)\n",
    "    index2 = df_bool2[df_bool2 == True].index.tolist()[0]\n",
    "    \n",
    "    try: \n",
    "        temp = df_weather.loc[index1:index2+1] \n",
    "    except:\n",
    "        temp = df_weather.loc[index1:end]\n",
    "    \n",
    "    usage_temp = pd.merge(left = usage, right = temp, left_on='DATETIME', right_on = 'DATE', how='left')\n",
    "    return(usage_temp)"
   ]
  },
  {
   "cell_type": "markdown",
   "metadata": {},
   "source": [
    "##### values for term, building_name, weather_station below"
   ]
  },
  {
   "cell_type": "code",
   "execution_count": 6,
   "metadata": {},
   "outputs": [
    {
     "data": {
      "text/plain": [
       "array(['Winter 2014', nan, 'Spring 2014', 'Summer 2014', 'Autumn 2014',\n",
       "       'Winter 2015', 'Spring 2015', 'Summer 2015', 'Autumn 2015',\n",
       "       'Winter 2016'], dtype=object)"
      ]
     },
     "execution_count": 6,
     "metadata": {},
     "output_type": "execute_result"
    }
   ],
   "source": [
    "terms = df_meter.TERM.unique()\n",
    "terms"
   ]
  },
  {
   "cell_type": "code",
   "execution_count": 7,
   "metadata": {},
   "outputs": [
    {
     "data": {
      "text/plain": [
       "array(['Bernard Mitchell Hospitial', 'John Crerar Library',\n",
       "       'Steam Plant Power Plant', 'Chapin Hall',\n",
       "       'Social Science Research Building',\n",
       "       'Duchossois Center for Advanced Medicine', 'Harris School'], dtype=object)"
      ]
     },
     "execution_count": 7,
     "metadata": {},
     "output_type": "execute_result"
    }
   ],
   "source": [
    "building_names = df_meter.DISCRIPT1.unique()\n",
    "building_names"
   ]
  },
  {
   "cell_type": "markdown",
   "metadata": {},
   "source": [
    "#### Select TERM, BUILDING_NAME & Get Dataframe"
   ]
  },
  {
   "cell_type": "code",
   "execution_count": 8,
   "metadata": {
    "collapsed": true
   },
   "outputs": [],
   "source": [
    "usage_temp = get_data('Summer 2015', 'Harris School')"
   ]
  },
  {
   "cell_type": "markdown",
   "metadata": {},
   "source": [
    "##### plot of Energy use vs time, Temperature vs time & Humidity vs time"
   ]
  },
  {
   "cell_type": "code",
   "execution_count": 9,
   "metadata": {},
   "outputs": [
    {
     "data": {
      "text/plain": [
       "<matplotlib.axes._subplots.AxesSubplot at 0x107be3c88>"
      ]
     },
     "execution_count": 9,
     "metadata": {},
     "output_type": "execute_result"
    },
    {
     "data": {
      "image/png": "[encoded data removed]",
      "text/plain": [
       "<matplotlib.figure.Figure at 0x10619ee48>"
      ]
     },
     "metadata": {},
     "output_type": "display_data"
    },
    {
     "data": {
      "image/png": "[encoded data removed]",
      "text/plain": [
       "<matplotlib.figure.Figure at 0x10707ec18>"
      ]
     },
     "metadata": {},
     "output_type": "display_data"
    },
    {
     "data": {
      "image/png": "[encoded data removed]",
      "text/plain": [
       "<matplotlib.figure.Figure at 0x1027f74a8>"
      ]
     },
     "metadata": {},
     "output_type": "display_data"
    }
   ],
   "source": [
    "usage_temp.plot(x = 'DATETIME', y = 'USAGE')\n",
    "usage_temp.plot(x = 'DATETIME', y = 'TEMPERATURE')\n",
    "usage_temp.plot(x = 'DATETIME', y = 'HUMIDITY')"
   ]
  },
  {
   "cell_type": "markdown",
   "metadata": {},
   "source": [
    "----------------"
   ]
  },
  {
   "cell_type": "markdown",
   "metadata": {},
   "source": [
    "<a id='ols'></a>"
   ]
  },
  {
   "cell_type": "markdown",
   "metadata": {},
   "source": [
    "Using university electricity data, we would like to find how temperature and humidity affects energy use. \n",
    "\n",
    "### Terminology \n",
    "\n",
    "In this example, temperature and humidity are **parameters** that we want to relate to our **observation**, energy use.  Our **linear model** describes how the parameters might be related to the observation.  This model consists of **coefficients**, which are multiplicative factors for prarameters.\n",
    "\n",
    "***Model: coefficient x parameter = model_observation*** \n",
    "\n",
    "We choose the coefficients to make the **model_observation** as close to the real observation as possible by minimizing the sum of the squared errors.  This is achieved by appropriately varying the coefficient values. The best  set of coefficient values will have the least distance between between the model_observation and real observation as measured by the Euclidean norm.\n",
    "\n",
    "Note we add a constant parameter to the matrix so that we can shift the data and improve the relation computed.\n",
    "\n",
    "### Data Representation\n",
    "\n",
    "- **A is matrix with first column the constant one, second column temperature, and third column humidity** \n",
    "    - Number of columns = 3 (constant, temperature, and humidity)\n",
    "    - Each row of temperature and humidity corresponds to a particular time\n",
    "    - There are as many entries as the number of time steps\n",
    "    - Number of rows = number of time steps\n",
    "        \n",
    "- **b is a column of energy use**\n",
    "    - Number of columns = 1 (energy use)\n",
    "    - Each row corresponds to a particular time, that matches with the times in A matrix\n",
    "        - Eg., If the first row in A matrix corresponds to 00:30 AM on 2016-1-1, the first row in b also corresponds to the same time\n",
    "    - Number of rows = number of time steps\n",
    "    \n",
    "- **x is matrix of coefficients, and Model is A*x **\n",
    "    - [recap matrix multiplication](https://en.wikipedia.org/wiki/Matrix_multiplication)\n",
    "    - x has 3 rows corresponding to the three columns in A\n",
    "    - x has only 1 column\n",
    "        \n",
    "- **y is the error **\n",
    "    - the difference between the prediction (Ax) and the observation (b), \\\\(y = Ax - b\\\\)\n",
    "    - y has 1 column and as many rows as the number of time steps\n",
    "    \n",
    "Mathematically, Ordinary Least Square (OLS) amounts to minimizing the sum of the squared errors:\n",
    "\n",
    "\\\\(0.5 \\parallel y \\parallel_2^2  =  0.5 \\sum_i y_i^2 \\\\)\n",
    "\n",
    "After substituting the definition of the errors, we obtain the convex, quadratic optimization problem\n",
    "\n",
    "\\\\(\\underset{x}{\\min} 0.5 \\parallel Ax − b \\parallel^2 \\\\)\n"
   ]
  },
  {
   "cell_type": "markdown",
   "metadata": {},
   "source": [
    "# Calculating Ordinary Least Square using IPython:\n",
    "## Example 1: Effect of weather on energy use"
   ]
  },
  {
   "cell_type": "markdown",
   "metadata": {},
   "source": [
    "### Step 1: Cleaning the data\n",
    "\n",
    "As mentioned earlier, real data can be messy. In our example, if we look at the plots of temperature vs time and humdity vs time, we see that for some chunk of dates, we have no observations. We will start by dropping those dates from our calculations.\n"
   ]
  },
  {
   "cell_type": "code",
   "execution_count": 10,
   "metadata": {
    "collapsed": true
   },
   "outputs": [],
   "source": [
    "usage_temp = usage_temp.dropna(subset = ['TEMPERATURE', 'HUMIDITY'])\n",
    "## droppin NaN values"
   ]
  },
  {
   "cell_type": "markdown",
   "metadata": {},
   "source": [
    "### Step 2: Creating the A matrix (column of property: temperature, humidity)"
   ]
  },
  {
   "cell_type": "code",
   "execution_count": 11,
   "metadata": {},
   "outputs": [
    {
     "data": {
      "text/plain": [
       "array([[  1. ,  75.9,  76.4],\n",
       "       [  1. ,  76.8,  72.5],\n",
       "       [  1. ,  75.6,  77.1],\n",
       "       ..., \n",
       "       [  1. ,  66.4,  94. ],\n",
       "       [  1. ,  66.7,  98.2],\n",
       "       [  1. ,  66.6,  96.3]])"
      ]
     },
     "execution_count": 11,
     "metadata": {},
     "output_type": "execute_result"
    }
   ],
   "source": [
    "A1 = np.array(usage_temp['TEMPERATURE'])\n",
    "## first column: temperature\n",
    "A2 = np.array(usage_temp['HUMIDITY'])\n",
    "## second column: humidity\n",
    "A = np.column_stack((np.ones(len(A1)),A1,A2))\n",
    "## combine two columns to get A matrix\n",
    "\n",
    "A"
   ]
  },
  {
   "cell_type": "markdown",
   "metadata": {},
   "source": [
    "### Step 3: Creating column vector b (column of observation: energy use)"
   ]
  },
  {
   "cell_type": "code",
   "execution_count": 12,
   "metadata": {},
   "outputs": [
    {
     "data": {
      "text/plain": [
       "array([  4.14,   4.14,   4.32, ...,  61.56,  61.56,  61.56])"
      ]
     },
     "execution_count": 12,
     "metadata": {},
     "output_type": "execute_result"
    }
   ],
   "source": [
    "b = np.array(usage_temp['USAGE'])\n",
    "b"
   ]
  },
  {
   "cell_type": "markdown",
   "metadata": {},
   "source": [
    "<a id = \"basic\"></a>"
   ]
  },
  {
   "cell_type": "markdown",
   "metadata": {},
   "source": [
    "## The basic algorithm\n",
    "\n",
    "The definition of the two norm and some algebra allows us to write the least-squares minimization problem as an equivalent optimization problem with a convex quadratic objective function\n",
    "\n",
    "\\\\(\\underset{x}{\\min} 0.5 x^T A^T A x - x^T A^T b + 0.5 b^T \\\\) \n",
    "\n",
    "Because the optimization problem is convex, the first-order optimality conditions are both necessary and sufficient for x to be a solution.  These conditions in the unconstrained optimization problem above are that the gradient of the objective function with respect to x is equal to zero\n",
    "\n",
    "\\\\( A^T A x - A^T b = 0 \\\\)\n",
    "\n",
    "Solving this linear system of equations for x gives the closed form solution\n",
    "\n",
    "\\\\( x = (A^T A)^{-1} A^T b \\\\)\n",
    "\n",
    "We note that the standard errors use the diagonal of \\\\( (A^T A)^{−1} \\\\).  The calculation of the diagonal of this matrix can be performed in a reasonable amount of time only when we have a small numbers of columns.\n",
    "\n",
    "The steps to the basic algorithm are\n",
    "  - Compute \\\\( B = A^T A \\\\) using \\\\(O(mn^2) \\\\) operations\n",
    "  - Compute \\\\( B^{-1} \\\\) using \\\\(O(n^3)\\\\) operations\n",
    "  - Multiply \\\\( x = B^{-1} A^T b \\\\) using \\\\(O(n^3+mn)\\\\) operations\n",
    "\n",
    "### Step 4: Calculating x and standard errors using basic algorithm"
   ]
  },
  {
   "cell_type": "code",
   "execution_count": 18,
   "metadata": {},
   "outputs": [
    {
     "data": {
      "text/plain": [
       "array([-7.52913375,  0.54639255,  0.0187545 ])"
      ]
     },
     "execution_count": 18,
     "metadata": {},
     "output_type": "execute_result"
    }
   ],
   "source": [
    "## Calculate A^T\n",
    "Aprime = A.conj().T\n",
    "\n",
    "## Calculate B = A^T A\n",
    "B = Aprime.dot(A)\n",
    "## Calculate B^{-1}\n",
    "Binv = la.inv(B)\n",
    "## Solve the system \n",
    "x = Binv.dot(Aprime.dot(b)) \n",
    "x"
   ]
  },
  {
   "cell_type": "code",
   "execution_count": 14,
   "metadata": {},
   "outputs": [
    {
     "data": {
      "text/plain": [
       "array([  4.96652742e-03,   5.48611408e-07,   1.34629220e-07])"
      ]
     },
     "execution_count": 14,
     "metadata": {},
     "output_type": "execute_result"
    }
   ],
   "source": [
    "stderrs = np.diag(Binv)\n",
    "stderrs"
   ]
  },
  {
   "cell_type": "markdown",
   "metadata": {},
   "source": [
    "<a id = \"first\"></a>"
   ]
  },
  {
   "cell_type": "markdown",
   "metadata": {},
   "source": [
    "## Improved algorithm\n",
    "\n",
    "The basic algorithm explicitly computes the inverse of \\\\( A^T A \\\\).  The typical method for computing this inverse is Gaussian elimination, which is not numerically stable in general.  The improved algorithm replaces using the inverse by solving the system of equations\n",
    "\n",
    "\\\\( Bx = A^T b \\\\)\n",
    "\n",
    "The computation of the standard errors matrix remains unchanged.\n",
    "\n",
    "### Step 5: Calculating x and using improved algorithm"
   ]
  },
  {
   "cell_type": "code",
   "execution_count": 17,
   "metadata": {},
   "outputs": [
    {
     "data": {
      "text/plain": [
       "array([-7.52913375,  0.54639255,  0.0187545 ])"
      ]
     },
     "execution_count": 17,
     "metadata": {},
     "output_type": "execute_result"
    }
   ],
   "source": [
    "Aprime = A.conj().T\n",
    "B = Aprime.dot(A)\n",
    "x = la.solve(B, Aprime.dot(b))\n",
    "x"
   ]
  },
  {
   "cell_type": "code",
   "execution_count": 16,
   "metadata": {},
   "outputs": [
    {
     "data": {
      "text/plain": [
       "array([  4.96652742e-03,   5.48611408e-07,   1.34629220e-07])"
      ]
     },
     "execution_count": 16,
     "metadata": {},
     "output_type": "execute_result"
    }
   ],
   "source": [
    "stderrs = np.diag(la.inv(B))\n",
    "stderrs"
   ]
  },
  {
   "cell_type": "markdown",
   "metadata": {},
   "source": [
    "<a id = \"second\"></a>"
   ]
  },
  {
   "cell_type": "markdown",
   "metadata": {},
   "source": [
    "## Algorithm using factorization\n",
    "\n",
    "The improved algorithm hides the linear algebra behind the solve operation.  We can decide how the solve is performed by factoring the \\\\( B \\\\) matrix using a Cholesky factorization where \\\\( B = L L^T \\\\) where \\\\(L\\\\) is a lower triangular matrix.  The Cholesky factorization is numerically stable and we then need to solve the system of equations\n",
    "\n",
    "\\\\( L L^T x = A^T b \\\\)\n",
    "\n",
    "where the solves exploit the fact that \\\\( L \\\\) is a triangular matrix.\n",
    "\n",
    "The steps are\n",
    "  - Compute \\\\( B = A^T A \\\\)\n",
    "  - Perform Cholesky factorization of \\\\( B \\\\)\n",
    "  - Compute \\\\( x = L^{-T} (L^{-1} (A^T b)) \\\\)\n",
    "\n",
    "Note: the numpy linalg package does not have wrappers for triangular matrices, so this implementation will not be as efficient as using the scipy.linalg.solve_triangular() function.\n",
    "\n",
    "### Step 6: Calculating x and standard errors using factorization"
   ]
  },
  {
   "cell_type": "code",
   "execution_count": 19,
   "metadata": {},
   "outputs": [
    {
     "data": {
      "text/plain": [
       "array([[   216.85017869,      0.        ,      0.        ],\n",
       "       [ 15545.22860109,   1588.30603465,      0.        ],\n",
       "       [ 15342.15752103,  -1688.84872302,   2725.40052666]])"
      ]
     },
     "execution_count": 19,
     "metadata": {},
     "output_type": "execute_result"
    }
   ],
   "source": [
    "L = la.cholesky(B)\n",
    "Lprime = L.conj().T\n",
    "L"
   ]
  },
  {
   "cell_type": "code",
   "execution_count": 23,
   "metadata": {},
   "outputs": [
    {
     "data": {
      "text/plain": [
       "array([-7.52913375,  0.54639255,  0.0187545 ])"
      ]
     },
     "execution_count": 23,
     "metadata": {},
     "output_type": "execute_result"
    }
   ],
   "source": [
    "x = la.solve(Lprime, la.solve(L, Aprime.dot(b)))\n",
    "x"
   ]
  },
  {
   "cell_type": "markdown",
   "metadata": {},
   "source": [
    "### Plotting\n",
    "\n",
    "Plotting the original data with the regression model can demonstrate to our eyes the quality of the regression.  For high dimensional problems, we can only look at part of the data.\n"
   ]
  },
  {
   "cell_type": "code",
   "execution_count": 30,
   "metadata": {
    "collapsed": true
   },
   "outputs": [],
   "source": [
    "usage_temp['fit'] = np.ones(len(A1))*x[0]+np.array(usage_temp['TEMPERATURE'])*x[1]+np.array(usage_temp['HUMIDITY'])*x[2]"
   ]
  },
  {
   "cell_type": "code",
   "execution_count": 43,
   "metadata": {},
   "outputs": [
    {
     "data": {
      "text/plain": [
       "(0, 100)"
      ]
     },
     "execution_count": 43,
     "metadata": {},
     "output_type": "execute_result"
    },
    {
     "data": {
      "image/png": "[encoded data removed]",
      "text/plain": [
       "<matplotlib.figure.Figure at 0x10eb95ef0>"
      ]
     },
     "metadata": {},
     "output_type": "display_data"
    },
    {
     "data": {
      "image/png": "[encoded data removed]",
      "text/plain": [
       "<matplotlib.figure.Figure at 0x10d818f28>"
      ]
     },
     "metadata": {},
     "output_type": "display_data"
    }
   ],
   "source": [
    "ax = usage_temp.plot(x='TEMPERATURE', y='USAGE',kind='scatter')\n",
    "usage_temp.plot(x='TEMPERATURE', y = 'fit', kind='line', ax=ax, color='red')\n",
    "ax.set_xlim([50,100])\n",
    "\n",
    "ax2 = usage_temp.plot(x='HUMIDITY', y='USAGE',kind='scatter')\n",
    "usage_temp.plot(x='HUMIDITY', y = 'fit', kind='line', ax=ax2, color='red')\n",
    "ax2.set_xlim([0,100])"
   ]
  },
  {
   "cell_type": "markdown",
   "metadata": {},
   "source": [
    "<a id= \"compare\"></a>"
   ]
  },
  {
   "cell_type": "markdown",
   "metadata": {},
   "source": [
    "## Comparison with inbuilt methods\n",
    "\n",
    "Python programming language also has inbuilt functions to calculate ordinary least squares.  The numerical method employed behind the scenes is described above.  This inbuild function also computes statistics regarding the regression.  These statistics provide quantitative information on the quality of the regression.\n"
   ]
  },
  {
   "cell_type": "code",
   "execution_count": 27,
   "metadata": {},
   "outputs": [
    {
     "data": {
      "text/plain": [
       "Intercept     -7.529134\n",
       "TEMPERATURE    0.546393\n",
       "HUMIDITY       0.018754\n",
       "dtype: float64"
      ]
     },
     "execution_count": 27,
     "metadata": {},
     "output_type": "execute_result"
    }
   ],
   "source": [
    "import statsmodels.formula.api as sm\n",
    "model = sm.ols(formula='USAGE ~ TEMPERATURE + HUMIDITY', data=usage_temp)\n",
    "result = model.fit()\n",
    "result.params"
   ]
  },
  {
   "cell_type": "markdown",
   "metadata": {},
   "source": [
    "------------------------\n",
    "\n",
    "------------------------"
   ]
  },
  {
   "cell_type": "markdown",
   "metadata": {},
   "source": [
    "## Work in progress...."
   ]
  },
  {
   "cell_type": "markdown",
   "metadata": {},
   "source": [
    "### Todd's notes\n",
    "Basic Algorithm\n",
    "\n",
    "- Assuming A has full column rank\n",
    "\n",
    "\\\\(x = (A^T A)^{-1} A^T b\\\\)\n",
    "\n",
    "where \\\\(A^T A \\in R^{n×n}\\\\) is symmetric\n",
    "\n",
    "- Standard errors use \\\\(diag((A^T A)^{−1})\\\\)   \n",
    "- Two cases\n",
    "  - Number of variables is small\n",
    "  - Number of variables is large -- we will ignore large\n",
    "  \n",
    "##### Matlab\n",
    "\n",
    "x = (A' \\* A) \\\\(A’ \\* b);\n",
    "\n",
    "stderrs = diag(inv(A’ \\* A));"
   ]
  },
  {
   "cell_type": "markdown",
   "metadata": {},
   "source": [
    "### Todd's notes\n",
    "Generalized Least Squares\n",
    "\n",
    "##### Matlab code\n",
    "\n",
    "Give the previosly defined A and b,\n",
    "\n",
    "B = A’ \\* (Sigma \\\\A);\n",
    "\n",
    "L = chol(B);\n",
    "\n",
    "x = L \\\\(L’ \\\\(A’ * (Sigma \\\\b)));\n"
   ]
  },
  {
   "cell_type": "code",
   "execution_count": 21,
   "metadata": {},
   "outputs": [
    {
     "data": {
      "text/plain": [
       "array([[ 1.        , -0.53512818],\n",
       "       [-0.53512818,  1.        ]])"
      ]
     },
     "execution_count": 21,
     "metadata": {},
     "output_type": "execute_result"
    }
   ],
   "source": [
    "Sigma = np.corrcoef(A1, A2)\n",
    "Sigma"
   ]
  },
  {
   "cell_type": "code",
   "execution_count": 22,
   "metadata": {},
   "outputs": [
    {
     "ename": "LinAlgError",
     "evalue": "Incompatible dimensions",
     "output_type": "error",
     "traceback": [
      "\u001b[0;31m---------------------------------------------------------------------------\u001b[0m",
      "\u001b[0;31mLinAlgError\u001b[0m                               Traceback (most recent call last)",
      "\u001b[0;32m<ipython-input-22-5f9d2d2749f5>\u001b[0m in \u001b[0;36m<module>\u001b[0;34m()\u001b[0m\n\u001b[0;32m----> 1\u001b[0;31m \u001b[0mB\u001b[0m \u001b[0;34m=\u001b[0m \u001b[0mAprime\u001b[0m\u001b[0;34m.\u001b[0m\u001b[0mdot\u001b[0m\u001b[0;34m(\u001b[0m\u001b[0mla\u001b[0m\u001b[0;34m.\u001b[0m\u001b[0mlstsq\u001b[0m\u001b[0;34m(\u001b[0m\u001b[0mSigma\u001b[0m\u001b[0;34m,\u001b[0m \u001b[0mA\u001b[0m\u001b[0;34m)\u001b[0m\u001b[0;34m)\u001b[0m\u001b[0;34m\u001b[0m\u001b[0m\n\u001b[0m",
      "\u001b[0;32m/usr/local/lib/python2.7/site-packages/numpy/linalg/linalg.pyc\u001b[0m in \u001b[0;36mlstsq\u001b[0;34m(a, b, rcond)\u001b[0m\n\u001b[1;32m   1924\u001b[0m     \u001b[0mldb\u001b[0m \u001b[0;34m=\u001b[0m \u001b[0mmax\u001b[0m\u001b[0;34m(\u001b[0m\u001b[0mn\u001b[0m\u001b[0;34m,\u001b[0m \u001b[0mm\u001b[0m\u001b[0;34m)\u001b[0m\u001b[0;34m\u001b[0m\u001b[0m\n\u001b[1;32m   1925\u001b[0m     \u001b[0;32mif\u001b[0m \u001b[0mm\u001b[0m \u001b[0;34m!=\u001b[0m \u001b[0mb\u001b[0m\u001b[0;34m.\u001b[0m\u001b[0mshape\u001b[0m\u001b[0;34m[\u001b[0m\u001b[0;36m0\u001b[0m\u001b[0;34m]\u001b[0m\u001b[0;34m:\u001b[0m\u001b[0;34m\u001b[0m\u001b[0m\n\u001b[0;32m-> 1926\u001b[0;31m         \u001b[0;32mraise\u001b[0m \u001b[0mLinAlgError\u001b[0m\u001b[0;34m(\u001b[0m\u001b[0;34m'Incompatible dimensions'\u001b[0m\u001b[0;34m)\u001b[0m\u001b[0;34m\u001b[0m\u001b[0m\n\u001b[0m\u001b[1;32m   1927\u001b[0m     \u001b[0mt\u001b[0m\u001b[0;34m,\u001b[0m \u001b[0mresult_t\u001b[0m \u001b[0;34m=\u001b[0m \u001b[0m_commonType\u001b[0m\u001b[0;34m(\u001b[0m\u001b[0ma\u001b[0m\u001b[0;34m,\u001b[0m \u001b[0mb\u001b[0m\u001b[0;34m)\u001b[0m\u001b[0;34m\u001b[0m\u001b[0m\n\u001b[1;32m   1928\u001b[0m     \u001b[0mresult_real_t\u001b[0m \u001b[0;34m=\u001b[0m \u001b[0m_realType\u001b[0m\u001b[0;34m(\u001b[0m\u001b[0mresult_t\u001b[0m\u001b[0;34m)\u001b[0m\u001b[0;34m\u001b[0m\u001b[0m\n",
      "\u001b[0;31mLinAlgError\u001b[0m: Incompatible dimensions"
     ]
    }
   ],
   "source": [
    "B = Aprime.dot(la.lstsq(Sigma, A))"
   ]
  }
 ],
 "metadata": {
  "kernelspec": {
   "display_name": "Python 2",
   "language": "python",
   "name": "python2"
  },
  "language_info": {
   "codemirror_mode": {
    "name": "ipython",
    "version": 2
   },
   "file_extension": ".py",
   "mimetype": "text/x-python",
   "name": "python",
   "nbconvert_exporter": "python",
   "pygments_lexer": "ipython2",
   "version": "2.7.13"
  }
 },
 "nbformat": 4,
 "nbformat_minor": 2
}
