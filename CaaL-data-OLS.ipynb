{
 "cells": [
  {
   "cell_type": "markdown",
   "metadata": {},
   "source": [
    "# Large Data Analytics \n",
    "## Part 1: Ordinary Least Squares\n",
    "\n",
    "This is Part 1 of ipython notebook that illustrates 'Large Data Analytics' based on a the material from a course taught by *Todd Munson* and *Stefan Wild*.  The concrete examples in this notebook use energy data for the University of Chicago buildings."
   ]
  },
  {
   "cell_type": "markdown",
   "metadata": {},
   "source": [
    "## Sections\n",
    "- [Introduction](#intro)\n",
    "- [What is ordinary least square (OLS)](#ols-intro)\n",
    "- [Dataset](#dataset)\n",
    "- [Import data into ipython notebook](#import-data)\n",
    "- [Pick building and term to work on](#building)\n",
    "- [Calculating OLS using IPython](#ols)\n",
    "    - [Example 1: Effect of Temperature on Energy Use](#ols)\n",
    "        - [Basic Algorithm](#basic)\n",
    "        - [First Algorithm for small variables](#first)\n",
    "        - [Second Algorithm for small variables](#second)\n",
    "        - [Comparison with inbuilt methods](#section)\n",
    "    \n",
    "    \n",
    "-----------------"
   ]
  },
  {
   "cell_type": "markdown",
   "metadata": {},
   "source": [
    "<a id='intro'></a>"
   ]
  },
  {
   "cell_type": "markdown",
   "metadata": {},
   "source": [
    "## Introduction\n",
    "\n",
    "Data is being collected at an astonishing rate by corporations to determine, for example, customer preferences in order to target advertising.  Scientific experiments and simulations also generate vast amounts of data to be analyzed to make discoveries, such as confirmation of the Higgs boson from experimental data collected by the Large Hadron Collider.\n",
    "\n",
    "#### Where does data come from?\n",
    "- Companies like Google and Netflix\n",
    "- Large data sets associated with network traffic\n",
    "- Scientific experiments like fluid flow simulations\n",
    "- Measured data from sensors and experiments \n",
    "\n",
    "**In this illustration: we will use electricity meter data from University of Chicago buildings**\n",
    "\n",
    "#### What do analysts do with the data?\n",
    "- Marketing, making recommendations\n",
    "- Estimating human behavior and finding anomalies\n",
    "- System state estimation\n",
    "- Inverse problems\n",
    "\n",
    "#### What techniques do analysis apply?\n",
    "- Feature extraction and machine learning\n",
    "- Regression models and classification\n",
    "- Data assimilation\n",
    "\n",
    "#### Why is big data hard?\n",
    "- Real data is messy\n",
    "- Online updates to the data\n",
    "- Need to tradeoff complexity and data access\n",
    "- Few complete passes through the data allowed\n",
    "- Sometimes access each piece of data only once\n",
    "- May not be able look at some data at all\n",
    "\n",
    "------------------------"
   ]
  },
  {
   "cell_type": "markdown",
   "metadata": {},
   "source": [
    "<a id = \"ols-intro\"></a>"
   ]
  },
  {
   "cell_type": "markdown",
   "metadata": {},
   "source": [
    "## What is regression and ordinary least squares (OLS)?\n",
    "\n",
    "Regression is a technique for explaining the relationship between parameters (inputs) and observations (outputs).  One example is to determine the relationship between temperature and humidity (inputs) and energy usage (output) based on recorded historical data contains measurements of the temperature, humidity, and energy usage.  If the regression is good, then we can then use the discerned relationship to predict the energy usage today based on the current temperature and humidity.\n",
    "\n",
    "Ordinary least squares is a regression method that posits a linear relationship between the inputs and outputs.  Often, the data is not perfectly represented by a linear relationship and we calculate the best linear relationship by minimizing the sum of the squared errors between the linear model and the observations.  Hence, the name least squares.\n",
    "\n",
    "The sum of squared errors is not always appropriate and we may use different measures, such as the worst error.  When the data is not well represented by a linear relationship, nonlinear models can be applied.  In either case, regression method changes and we would no longer be using ordinary least squares.\n",
    "\n",
    "For this notebook, we will restrict our regression methods to ordinary least squares.\n",
    "\n",
    "-----------------------"
   ]
  },
  {
   "cell_type": "markdown",
   "metadata": {},
   "source": [
    "<a id=\"dataset\"></a>"
   ]
  },
  {
   "cell_type": "markdown",
   "metadata": {},
   "source": [
    "## Dataset\n",
    "\n",
    "In 2015, the 160 University of Chicago campus buildings and grounds used $40 million worth of energy. Analyzing the data trends will help improve our understanding of campus energy usage and increase energy efficiency!\n",
    "\n",
    "Dataset consists of the following:\n",
    "\n",
    "- Campus electricity data for ## buildings (## meters) from 2014 to 2016, at 15 minute intervals.\n",
    "\n",
    "- Weather station data for the same time interval\n",
    "\n",
    "\n",
    "The files can be downloaded here:\n",
    "\n",
    "<span style=\"color:red\"> !! Radha will make shorter versions of the csv files and upload to this girhub repo !! </span> \n",
    "\n",
    "https://rdcep.squarespace.com/caal-activities/fall-hackathon-2016\n",
    "\n",
    "Click on ***comed data*** for energy usage data and ***weather*** for temperature data.\n",
    "\n",
    "\n",
    "--------------------"
   ]
  },
  {
   "cell_type": "markdown",
   "metadata": {},
   "source": [
    "<a id=\"import-data\"></a>"
   ]
  },
  {
   "cell_type": "markdown",
   "metadata": {},
   "source": [
    "## Import data into ipython notebook"
   ]
  },
  {
   "cell_type": "markdown",
   "metadata": {},
   "source": [
    "#### Import python libraries"
   ]
  },
  {
   "cell_type": "code",
   "execution_count": 1,
   "metadata": {
    "collapsed": true
   },
   "outputs": [],
   "source": [
    "import pandas as pd\n",
    "import numpy as np\n",
    "from numpy import linalg as la\n",
    "import matplotlib.pyplot as plt\n",
    "%matplotlib inline"
   ]
  },
  {
   "cell_type": "markdown",
   "metadata": {},
   "source": [
    "#### Read Files"
   ]
  },
  {
   "cell_type": "code",
   "execution_count": 2,
   "metadata": {},
   "outputs": [
    {
     "name": "stderr",
     "output_type": "stream",
     "text": [
      "/usr/local/lib/python2.7/site-packages/IPython/core/interactiveshell.py:2717: DtypeWarning: Columns (10,11) have mixed types. Specify dtype option on import or set low_memory=False.\n",
      "  interactivity=interactivity, compiler=compiler, result=result)\n"
     ]
    }
   ],
   "source": [
    "df = pd.read_csv('uc_comed_two_years_final.csv', header = 'infer')"
   ]
  },
  {
   "cell_type": "code",
   "execution_count": 3,
   "metadata": {
    "collapsed": true
   },
   "outputs": [],
   "source": [
    "df_temp = pd.read_csv('weather_prepared_final.csv')"
   ]
  },
  {
   "cell_type": "markdown",
   "metadata": {},
   "source": [
    "#### Keeping useful columns and converting date-time"
   ]
  },
  {
   "cell_type": "code",
   "execution_count": 4,
   "metadata": {
    "collapsed": true
   },
   "outputs": [],
   "source": [
    "df_new = df.filter(['DATETIME', 'TERM', 'BD_ID', 'DISCRIPT1', 'USAGE'])\n",
    "df_new['DATETIME'] = pd.to_datetime(df_new['DATETIME'])\n",
    "df_temp_new = df_temp.filter(['DATE', 'STATION', 'TEMPERATURE', 'HUMIDITY'])\n",
    "df_temp_new['DATE'] = pd.to_datetime(df_temp_new['DATE'])"
   ]
  },
  {
   "cell_type": "markdown",
   "metadata": {},
   "source": [
    "------------------"
   ]
  },
  {
   "cell_type": "markdown",
   "metadata": {},
   "source": [
    "<a id='building'></a>"
   ]
  },
  {
   "cell_type": "markdown",
   "metadata": {},
   "source": [
    "## Pick building and term to work on"
   ]
  },
  {
   "cell_type": "markdown",
   "metadata": {},
   "source": [
    "#### Function to choose data based on term, building_name, and weather_station"
   ]
  },
  {
   "cell_type": "code",
   "execution_count": 5,
   "metadata": {
    "collapsed": true
   },
   "outputs": [],
   "source": [
    "def get_data(term, building_name, weather_station = 'Regenstein Library Weather Station'):\n",
    "    ## PICK USAGE DATA BASED ON TERM AND BUILDING_NAME\n",
    "    usage = df_new[(df_new['TERM'] == term) & (df_new['DISCRIPT1'] == building_name)]\n",
    "    \n",
    "    ## GET START AND END DATE OF THE TERM\n",
    "    start_date = usage.iloc[0]['DATETIME']\n",
    "    end_date = usage.iloc[-1]['DATETIME']\n",
    "    \n",
    "    ## PICK WEATHER STATION FOR TEMP\n",
    "    df_T = df_temp_new[(df_temp_new['STATION'] == weather_station)]\n",
    "    \n",
    "    df_bool1 = (df_temp_new['DATE'] == start_date)\n",
    "    index1 = df_bool1[df_bool1 == True].index.tolist()[0]\n",
    "    \n",
    "    df_bool2 = (df_temp_new['DATE'] == end_date)\n",
    "    index2 = df_bool2[df_bool2 == True].index.tolist()[0]\n",
    "    \n",
    "    try: \n",
    "        temp = df_T.loc[index1:index2+1] \n",
    "    except:\n",
    "        temp = df_T.loc[index1:end]\n",
    "    \n",
    "    usage_temp = pd.merge(left = usage, right = temp, left_on='DATETIME', right_on = 'DATE', how='left')\n",
    "    return(usage_temp)"
   ]
  },
  {
   "cell_type": "markdown",
   "metadata": {},
   "source": [
    "##### values for term, building_name, weather_station below"
   ]
  },
  {
   "cell_type": "code",
   "execution_count": 6,
   "metadata": {
    "collapsed": true
   },
   "outputs": [],
   "source": [
    "terms = df_new.TERM.unique()"
   ]
  },
  {
   "cell_type": "code",
   "execution_count": 7,
   "metadata": {
    "collapsed": true
   },
   "outputs": [],
   "source": [
    "building_names = df_new.DISCRIPT1.unique()"
   ]
  },
  {
   "cell_type": "code",
   "execution_count": 8,
   "metadata": {
    "collapsed": true
   },
   "outputs": [],
   "source": [
    "weather_stations = df_temp_new.STATION.unique()"
   ]
  },
  {
   "cell_type": "markdown",
   "metadata": {},
   "source": [
    "#### Select TERM, BUILDING_NAME & Get Dataframe"
   ]
  },
  {
   "cell_type": "code",
   "execution_count": 9,
   "metadata": {
    "collapsed": true
   },
   "outputs": [],
   "source": [
    "usage_temp = get_data('Summer 2015', 'Regenstein Library', 'Regenstein Library Weather Station')"
   ]
  },
  {
   "cell_type": "markdown",
   "metadata": {},
   "source": [
    "##### plot of Energy use vs time, Temperature vs time & Humidity vs time"
   ]
  },
  {
   "cell_type": "code",
   "execution_count": 10,
   "metadata": {},
   "outputs": [
    {
     "data": {
      "text/plain": [
       "<matplotlib.axes._subplots.AxesSubplot at 0x10fb62e50>"
      ]
     },
     "execution_count": 10,
     "metadata": {},
     "output_type": "execute_result"
    },
    {
     "data": {
      "image/png": "[encoded data removed]",
      "text/plain": [
       "<matplotlib.figure.Figure at 0x10f46dd50>"
      ]
     },
     "metadata": {},
     "output_type": "display_data"
    },
    {
     "data": {
      "image/png": "[encoded data removed]",
      "text/plain": [
       "<matplotlib.figure.Figure at 0x10f8a4e10>"
      ]
     },
     "metadata": {},
     "output_type": "display_data"
    },
    {
     "data": {
      "image/png": "[encoded data removed]",
      "text/plain": [
       "<matplotlib.figure.Figure at 0x10fb25590>"
      ]
     },
     "metadata": {},
     "output_type": "display_data"
    }
   ],
   "source": [
    "usage_temp.plot(x = 'DATETIME', y = 'USAGE')\n",
    "usage_temp.plot(x = 'DATETIME', y = 'TEMPERATURE')\n",
    "usage_temp.plot(x = 'DATETIME', y = 'HUMIDITY')"
   ]
  },
  {
   "cell_type": "markdown",
   "metadata": {},
   "source": [
    "----------------"
   ]
  },
  {
   "cell_type": "markdown",
   "metadata": {},
   "source": [
    "<a id='ols'></a>"
   ]
  },
  {
   "cell_type": "markdown",
   "metadata": {},
   "source": [
    "Using university electricity data, we would like to find how temperature and humidity affects energy use. \n",
    "\n",
    "### Terminology \n",
    "\n",
    "In this example, temperature and humidity are **parameters** that we want to relate to our **observation**, energy use.  Our **linear model** describes how the parameters might be related to the observation.  This model consists of **coefficients**, which are multiplicative factors for prarameters.\n",
    "\n",
    "***Model: coefficient x parameter = model_observation*** \n",
    "\n",
    "We choose the coefficients to make the **model_observation** as close to the real observation as possible by minimizing the sum of the squared errors.  This is achieved by appropriately varying the coefficient values. The best  set of coefficient values will have the least distance between between the model_observation and real observation as measured by the Euclidean norm.\n",
    "\n",
    "Note we add a constant parameter to the matrix so that we can shift the data and improve the relation computed.\n",
    "\n",
    "### Data Representation\n",
    "\n",
    "- **A is matrix with first column the constant one, second column temperature, and third column humidity** \n",
    "    - Number of columns = 3 (constant, temperature, and humidity)\n",
    "    - Each row of temperature and humidity corresponds to a particular time\n",
    "    - There are as many entries as the number of time steps\n",
    "    - Number of rows = number of time steps\n",
    "        \n",
    "- **b is a column of energy use**\n",
    "    - Number of columns = 1 (energy use)\n",
    "    - Each row corresponds to a particular time, that matches with the times in A matrix\n",
    "        - Eg., If the first row in A matrix corresponds to 00:30 AM on 2016-1-1, the first row in b also corresponds to the same time\n",
    "    - Number of rows = number of time steps\n",
    "    \n",
    "- **x is matrix of coefficients, and Model is A*x **\n",
    "    - [recap matrix multiplication](https://en.wikipedia.org/wiki/Matrix_multiplication)\n",
    "    - x has 3 rows corresponding to the three columns in A\n",
    "    - x has only 1 column\n",
    "        \n",
    "- **y is the error **\n",
    "    - the difference between the prediction (Ax) and the observation (b), \\\\(y = Ax - b\\\\)\n",
    "    - y has 1 column and as many rows as the number of time steps\n",
    "    \n",
    "Mathematically, Ordinary Least Square (OLS) amounts to minimizing the sum of the squared errors:\n",
    "\n",
    "\\\\(0.5 \\parallel y \\parallel_2^2  =  0.5 \\sum_i y_i^2 \\\\)\n",
    "\n",
    "After substituting the definition of the errors, we obtain the convex, quadratic optimization problem\n",
    "\n",
    "\\\\(\\underset{x}{\\min} 0.5 \\parallel Ax − b \\parallel^2 \\\\)\n"
   ]
  },
  {
   "cell_type": "markdown",
   "metadata": {},
   "source": [
    "# Calculating Ordinary Least Square using IPython:\n",
    "## Example 1: Effect of weather on energy use"
   ]
  },
  {
   "cell_type": "markdown",
   "metadata": {},
   "source": [
    "### Step 1: Cleaning the data\n",
    "\n",
    "As mentioned earlier, real data can be messy. In our example, if we look at the plots of temperature vs time and humdity vs time, we see that for some chunk of dates, we have no observations. We will start by dropping those dates from our calculations.\n",
    "\n",
    "<span style=\"color:green\"> @Radha make sure I add the constant column correctly and rerun the codes and outputs </span>"
   ]
  },
  {
   "cell_type": "code",
   "execution_count": 11,
   "metadata": {
    "collapsed": true
   },
   "outputs": [],
   "source": [
    "usage_temp = usage_temp.dropna(subset = ['TEMPERATURE', 'HUMIDITY'])\n",
    "## droppin NaN values"
   ]
  },
  {
   "cell_type": "markdown",
   "metadata": {},
   "source": [
    "### Step 2: Creating the A matrix (column of property: temperature, humidity)"
   ]
  },
  {
   "cell_type": "code",
   "execution_count": 12,
   "metadata": {},
   "outputs": [
    {
     "data": {
      "text/plain": [
       "array([[ 76.8,  72.5],\n",
       "       [ 76.1,  68.6],\n",
       "       [ 75.7,  73.3],\n",
       "       ..., \n",
       "       [ 65.5,  95.1],\n",
       "       [ 66.4,  94. ],\n",
       "       [ 66.6,  96.3]])"
      ]
     },
     "execution_count": 12,
     "metadata": {},
     "output_type": "execute_result"
    }
   ],
   "source": [
    "A1 = np.array(usage_temp['TEMPERATURE'])\n",
    "## first column: temperature\n",
    "A2 = np.array(usage_temp['HUMIDITY'])\n",
    "## second column: humidity\n",
    "A = np.column_stack((1,A1,A2))\n",
    "## combine two columns to get A matrix\n",
    "\n",
    "A"
   ]
  },
  {
   "cell_type": "markdown",
   "metadata": {},
   "source": [
    "### Step 3: Creating column vector b (column of observation: energy use)"
   ]
  },
  {
   "cell_type": "code",
   "execution_count": 13,
   "metadata": {},
   "outputs": [
    {
     "data": {
      "text/plain": [
       "array([ 284.04,  282.24,  280.8 , ...,  541.39,  536.75,  539.25])"
      ]
     },
     "execution_count": 13,
     "metadata": {},
     "output_type": "execute_result"
    }
   ],
   "source": [
    "b = np.array(usage_temp['USAGE'])\n",
    "b"
   ]
  },
  {
   "cell_type": "markdown",
   "metadata": {},
   "source": [
    "<a id = \"basic\"></a>"
   ]
  },
  {
   "cell_type": "markdown",
   "metadata": {},
   "source": [
    "## The basic algorithm\n",
    "\n",
    "The definition of the two norm and some algebra allows us to write the least-squares minimization problem as an equivalent optimization problem with a convex quadratic objective function\n",
    "\n",
    "\\\\(\\underset{x}{\\min} 0.5 x^T A^T A x - x^T A^T b + 0.5 b^T \\\\) \n",
    "\n",
    "Because the optimization problem is convex, the first-order optimality conditions are both necessary and sufficient for x to be a solution.  These conditions in the unconstrained optimization problem above are that the gradient of the objective function with respect to x is equal to zero\n",
    "\n",
    "\\\\( A^T A x - A^T b = 0 \\\\)\n",
    "\n",
    "Solving this linear system of equations for x gives the closed form solution\n",
    "\n",
    "\\\\( x = (A^T A)^{-1} A^T b \\\\)\n",
    "\n",
    "We note that the standard errors use the diagonal of \\\\( (A^T A)^{−1} \\\\).  The calculation of the diagonal of this matrix can be performed in a reasonable amount of time only when we have a small numbers of columns.\n",
    "\n",
    "The steps to the basic algorithm are\n",
    "  - Compute \\\\( B = A^T A \\\\) using \\\\O( mn^2 \\\\) operations\n",
    "  - Compute \\\\( B^{-1} \\\\) using \\\\(O(n^3)\\\\) operations\n",
    "  - Multiply \\\\( x = B^{-1} A^T b \\\\) using \\\\(O(n^3+mn)\\\\) operations\n",
    "\n",
    "### Step 4: Calculating x and standard errors using basic algorithm"
   ]
  },
  {
   "cell_type": "code",
   "execution_count": 14,
   "metadata": {},
   "outputs": [
    {
     "data": {
      "text/plain": [
       "(array([ 6.99019751, -0.30183171]),\n",
       " array([], dtype=float64),\n",
       " 2,\n",
       " array([ 58798879.11304498,   1118438.76695503]))"
      ]
     },
     "execution_count": 14,
     "metadata": {},
     "output_type": "execute_result"
    }
   ],
   "source": [
    "## Calculate A^T\n",
    "Aprime = A.conj().T\n",
    "## Calculate B = A^T A\n",
    "B = Aprime.dot(A)\n",
    "## Calculate B^{-1}\n",
    "Binv = la.inv(B)\n",
    "## Solve the system \n",
    "x = Binv * Aprime.dot(B)\n",
    "x"
   ]
  },
  {
   "cell_type": "code",
   "execution_count": 15,
   "metadata": {},
   "outputs": [
    {
     "data": {
      "text/plain": [
       "array([  4.48884136e-07,   4.62226476e-07])"
      ]
     },
     "execution_count": 15,
     "metadata": {},
     "output_type": "execute_result"
    }
   ],
   "source": [
    "stderrs = np.diag(Binv)\n",
    "stderrs"
   ]
  },
  {
   "cell_type": "markdown",
   "metadata": {},
   "source": [
    "<a id = \"first\"></a>"
   ]
  },
  {
   "cell_type": "markdown",
   "metadata": {},
   "source": [
    "## Improved algorithm\n",
    "\n",
    "The basic algorithm explicitly computes the inverse of \\\\( A^T A \\\\).  The typical method for computing this inverse is Gaussian elimination, which is not numerically stable in general.  The improved algorithm replaces using the inverse by solving the system of equations\n",
    "\n",
    "\\\\( Bx = A^T b \\\\)\n",
    "\n",
    "The computation of the standard errors matrix remains unchanged.\n",
    "\n",
    "### Step 5: Calculating x and using improved algorithm"
   ]
  },
  {
   "cell_type": "code",
   "execution_count": 16,
   "metadata": {},
   "outputs": [
    {
     "data": {
      "text/plain": [
       "array([ 6.99019751, -0.30183171])"
      ]
     },
     "execution_count": 16,
     "metadata": {},
     "output_type": "execute_result"
    }
   ],
   "source": [
    "Aprime = A.conj().T\n",
    "B = Aprime.dot(A)\n",
    "x = la.solve(B, Aprime.dot(b))\n",
    "x[0]"
   ]
  },
  {
   "cell_type": "code",
   "execution_count": 17,
   "metadata": {},
   "outputs": [
    {
     "data": {
      "text/plain": [
       "array([  4.48884136e-07,   4.62226476e-07])"
      ]
     },
     "execution_count": 17,
     "metadata": {},
     "output_type": "execute_result"
    }
   ],
   "source": [
    "stderrs = np.diag(la.inv(B))\n",
    "stderrs"
   ]
  },
  {
   "cell_type": "markdown",
   "metadata": {},
   "source": [
    "<a id = \"second\"></a>"
   ]
  },
  {
   "cell_type": "markdown",
   "metadata": {},
   "source": [
    "## Algorithm using factorization\n",
    "\n",
    "The improved algorithm hides the linear algebra behind the solve operation.  We can decide how the solve is performed by factoring the \\\\( B \\\\) matrix using a Cholesky factorization where \\\\( B = L L^T \\\\) where \\\\(L\\\\) is a lower triangular matrix.  The Cholesky factorization is numerically stable and we then need to solve the system of equations\n",
    "\n",
    "\\\\( L L^T x = A^T b \\\\)\n",
    "\n",
    "where the solves exploit the fact that \\\\( L \\\\) is a triangular matrix.\n",
    "\n",
    "The steps are\n",
    "  - Compute \\\\( B = A^T A \\\\)\n",
    "  - Perform Cholesky factorization of \\\\( B \\\\)\n",
    "  - Compute \\\\( x = L^{-T} (L^{-1} (A^T b)) \\\\)\n",
    "\n",
    "Note: the numpy linalg package does not have wrappers for triangular matrices, so this implementation will not be as efficient as using the scipy.linalg.solve_triangular() function.\n",
    "\n",
    "### Step 6: Calculating x and standard errors using factorization"
   ]
  },
  {
   "cell_type": "code",
   "execution_count": 18,
   "metadata": {},
   "outputs": [
    {
     "data": {
      "text/plain": [
       "array([[ 5513.38142522,     0.        ],\n",
       "       [ 5230.34430161,  1470.86424481]])"
      ]
     },
     "execution_count": 18,
     "metadata": {},
     "output_type": "execute_result"
    }
   ],
   "source": [
    "L = la.cholesky(B)\n",
    "Lprime = L.conj().T\n",
    "L"
   ]
  },
  {
   "cell_type": "code",
   "execution_count": 19,
   "metadata": {},
   "outputs": [
    {
     "data": {
      "text/plain": [
       "array([ 6.99019751, -0.30183171])"
      ]
     },
     "execution_count": 19,
     "metadata": {},
     "output_type": "execute_result"
    }
   ],
   "source": [
    "x = la.solve(Lprime, la.solve(L, Aprime.dot(b))[0])\n",
    "x[0]"
   ]
  },
  {
   "cell_type": "markdown",
   "metadata": {},
   "source": [
    "##### To do.. \n",
    "\n",
    "<span style=\"color:red\"> Radha will plot the fit vs data here </span>\n"
   ]
  },
  {
   "cell_type": "markdown",
   "metadata": {},
   "source": [
    "<a id= \"compare\"></a>"
   ]
  },
  {
   "cell_type": "markdown",
   "metadata": {},
   "source": [
    "## Comparison with inbuilt methods\n",
    "\n",
    "Python programming language also has inbuilt functions to calculate ordinary least squares. Here is how we can use those\n",
    "\n",
    "<span style=\"color:red\"> @Todd: When can we use this? Pitfall? </span>\n",
    "\n",
    "<span style=\"color:red\"> @Todd: I am not sure how to compare the two results.. </span>\n",
    "\n",
    "<span style=\"color:green\"> @Radha: the column we compute is the coef in the second table.  I would need to figure out the real standard errors.  Note we need to add a constant to our fit.  This is done by augmenting A to be [ones, A], so we have three parameters instead of 2.  The first parameters is the \"intercept\". </span> "
   ]
  },
  {
   "cell_type": "code",
   "execution_count": 20,
   "metadata": {},
   "outputs": [
    {
     "data": {
      "text/html": [
       "<table class=\"simpletable\">\n",
       "<caption>OLS Regression Results</caption>\n",
       "<tr>\n",
       "  <th>Dep. Variable:</th>          <td>USAGE</td>      <th>  R-squared:         </th> <td>   0.288</td> \n",
       "</tr>\n",
       "<tr>\n",
       "  <th>Model:</th>                   <td>OLS</td>       <th>  Adj. R-squared:    </th> <td>   0.288</td> \n",
       "</tr>\n",
       "<tr>\n",
       "  <th>Method:</th>             <td>Least Squares</td>  <th>  F-statistic:       </th> <td>   1183.</td> \n",
       "</tr>\n",
       "<tr>\n",
       "  <th>Date:</th>             <td>Mon, 12 Jun 2017</td> <th>  Prob (F-statistic):</th>  <td>  0.00</td>  \n",
       "</tr>\n",
       "<tr>\n",
       "  <th>Time:</th>                 <td>11:07:07</td>     <th>  Log-Likelihood:    </th> <td> -35717.</td> \n",
       "</tr>\n",
       "<tr>\n",
       "  <th>No. Observations:</th>      <td>  5842</td>      <th>  AIC:               </th> <td>7.144e+04</td>\n",
       "</tr>\n",
       "<tr>\n",
       "  <th>Df Residuals:</th>          <td>  5839</td>      <th>  BIC:               </th> <td>7.146e+04</td>\n",
       "</tr>\n",
       "<tr>\n",
       "  <th>Df Model:</th>              <td>     2</td>      <th>                     </th>     <td> </td>    \n",
       "</tr>\n",
       "<tr>\n",
       "  <th>Covariance Type:</th>      <td>nonrobust</td>    <th>                     </th>     <td> </td>    \n",
       "</tr>\n",
       "</table>\n",
       "<table class=\"simpletable\">\n",
       "<tr>\n",
       "       <td></td>          <th>coef</th>     <th>std err</th>      <th>t</th>      <th>P>|t|</th>  <th>[0.025</th>    <th>0.975]</th>  \n",
       "</tr>\n",
       "<tr>\n",
       "  <th>Intercept</th>   <td> -368.2643</td> <td>   22.232</td> <td>  -16.565</td> <td> 0.000</td> <td> -411.847</td> <td> -324.682</td>\n",
       "</tr>\n",
       "<tr>\n",
       "  <th>TEMPERATURE</th> <td>   10.6719</td> <td>    0.234</td> <td>   45.599</td> <td> 0.000</td> <td>   10.213</td> <td>   11.131</td>\n",
       "</tr>\n",
       "<tr>\n",
       "  <th>HUMIDITY</th>    <td>    1.1716</td> <td>    0.116</td> <td>   10.104</td> <td> 0.000</td> <td>    0.944</td> <td>    1.399</td>\n",
       "</tr>\n",
       "</table>\n",
       "<table class=\"simpletable\">\n",
       "<tr>\n",
       "  <th>Omnibus:</th>       <td>28.361</td> <th>  Durbin-Watson:     </th> <td>   0.074</td>\n",
       "</tr>\n",
       "<tr>\n",
       "  <th>Prob(Omnibus):</th> <td> 0.000</td> <th>  Jarque-Bera (JB):  </th> <td>  39.536</td>\n",
       "</tr>\n",
       "<tr>\n",
       "  <th>Skew:</th>          <td>-0.012</td> <th>  Prob(JB):          </th> <td>2.60e-09</td>\n",
       "</tr>\n",
       "<tr>\n",
       "  <th>Kurtosis:</th>      <td> 3.402</td> <th>  Cond. No.          </th> <td>1.56e+03</td>\n",
       "</tr>\n",
       "</table>"
      ],
      "text/plain": [
       "<class 'statsmodels.iolib.summary.Summary'>\n",
       "\"\"\"\n",
       "                            OLS Regression Results                            \n",
       "==============================================================================\n",
       "Dep. Variable:                  USAGE   R-squared:                       0.288\n",
       "Model:                            OLS   Adj. R-squared:                  0.288\n",
       "Method:                 Least Squares   F-statistic:                     1183.\n",
       "Date:                Mon, 12 Jun 2017   Prob (F-statistic):               0.00\n",
       "Time:                        11:07:07   Log-Likelihood:                -35717.\n",
       "No. Observations:                5842   AIC:                         7.144e+04\n",
       "Df Residuals:                    5839   BIC:                         7.146e+04\n",
       "Df Model:                           2                                         \n",
       "Covariance Type:            nonrobust                                         \n",
       "===============================================================================\n",
       "                  coef    std err          t      P>|t|      [0.025      0.975]\n",
       "-------------------------------------------------------------------------------\n",
       "Intercept    -368.2643     22.232    -16.565      0.000    -411.847    -324.682\n",
       "TEMPERATURE    10.6719      0.234     45.599      0.000      10.213      11.131\n",
       "HUMIDITY        1.1716      0.116     10.104      0.000       0.944       1.399\n",
       "==============================================================================\n",
       "Omnibus:                       28.361   Durbin-Watson:                   0.074\n",
       "Prob(Omnibus):                  0.000   Jarque-Bera (JB):               39.536\n",
       "Skew:                          -0.012   Prob(JB):                     2.60e-09\n",
       "Kurtosis:                       3.402   Cond. No.                     1.56e+03\n",
       "==============================================================================\n",
       "\n",
       "Warnings:\n",
       "[1] Standard Errors assume that the covariance matrix of the errors is correctly specified.\n",
       "[2] The condition number is large, 1.56e+03. This might indicate that there are\n",
       "strong multicollinearity or other numerical problems.\n",
       "\"\"\""
      ]
     },
     "execution_count": 20,
     "metadata": {},
     "output_type": "execute_result"
    }
   ],
   "source": [
    "import statsmodels.formula.api as sm\n",
    "model = sm.ols(formula='USAGE ~ TEMPERATURE + HUMIDITY', data=usage_temp)\n",
    "result = model.fit()\n",
    "result.summary()"
   ]
  },
  {
   "cell_type": "markdown",
   "metadata": {},
   "source": [
    "------------------------\n",
    "\n",
    "------------------------"
   ]
  },
  {
   "cell_type": "markdown",
   "metadata": {},
   "source": [
    "## Work in progress...."
   ]
  },
  {
   "cell_type": "markdown",
   "metadata": {},
   "source": [
    "### Todd's notes\n",
    "Basic Algorithm\n",
    "\n",
    "- Assuming A has full column rank\n",
    "\n",
    "\\\\(x = (A^T A)^{-1} A^T b\\\\)\n",
    "\n",
    "where \\\\(A^T A \\in R^{n×n}\\\\) is symmetric\n",
    "\n",
    "- Standard errors use \\\\(diag((A^T A)^{−1})\\\\)   \n",
    "- Two cases\n",
    "  - Number of variables is small\n",
    "  - Number of variables is large -- we will ignore large\n",
    "  \n",
    "##### Matlab\n",
    "\n",
    "x = (A' \\* A) \\\\(A’ \\* b);\n",
    "\n",
    "stderrs = diag(inv(A’ \\* A));"
   ]
  },
  {
   "cell_type": "markdown",
   "metadata": {},
   "source": [
    "### Todd's notes\n",
    "Generalized Least Squares\n",
    "\n",
    "##### Matlab code\n",
    "\n",
    "Give the previosly defined A and b,\n",
    "\n",
    "B = A’ \\* (Sigma \\\\A);\n",
    "\n",
    "L = chol(B);\n",
    "\n",
    "x = L \\\\(L’ \\\\(A’ * (Sigma \\\\b)));\n"
   ]
  },
  {
   "cell_type": "code",
   "execution_count": 21,
   "metadata": {},
   "outputs": [
    {
     "data": {
      "text/plain": [
       "array([[ 1.        , -0.53512818],\n",
       "       [-0.53512818,  1.        ]])"
      ]
     },
     "execution_count": 21,
     "metadata": {},
     "output_type": "execute_result"
    }
   ],
   "source": [
    "Sigma = np.corrcoef(A1, A2)\n",
    "Sigma"
   ]
  },
  {
   "cell_type": "code",
   "execution_count": 22,
   "metadata": {},
   "outputs": [
    {
     "ename": "LinAlgError",
     "evalue": "Incompatible dimensions",
     "output_type": "error",
     "traceback": [
      "\u001b[0;31m---------------------------------------------------------------------------\u001b[0m",
      "\u001b[0;31mLinAlgError\u001b[0m                               Traceback (most recent call last)",
      "\u001b[0;32m<ipython-input-22-5f9d2d2749f5>\u001b[0m in \u001b[0;36m<module>\u001b[0;34m()\u001b[0m\n\u001b[0;32m----> 1\u001b[0;31m \u001b[0mB\u001b[0m \u001b[0;34m=\u001b[0m \u001b[0mAprime\u001b[0m\u001b[0;34m.\u001b[0m\u001b[0mdot\u001b[0m\u001b[0;34m(\u001b[0m\u001b[0mla\u001b[0m\u001b[0;34m.\u001b[0m\u001b[0mlstsq\u001b[0m\u001b[0;34m(\u001b[0m\u001b[0mSigma\u001b[0m\u001b[0;34m,\u001b[0m \u001b[0mA\u001b[0m\u001b[0;34m)\u001b[0m\u001b[0;34m)\u001b[0m\u001b[0;34m\u001b[0m\u001b[0m\n\u001b[0m",
      "\u001b[0;32m/usr/local/lib/python2.7/site-packages/numpy/linalg/linalg.pyc\u001b[0m in \u001b[0;36mlstsq\u001b[0;34m(a, b, rcond)\u001b[0m\n\u001b[1;32m   1924\u001b[0m     \u001b[0mldb\u001b[0m \u001b[0;34m=\u001b[0m \u001b[0mmax\u001b[0m\u001b[0;34m(\u001b[0m\u001b[0mn\u001b[0m\u001b[0;34m,\u001b[0m \u001b[0mm\u001b[0m\u001b[0;34m)\u001b[0m\u001b[0;34m\u001b[0m\u001b[0m\n\u001b[1;32m   1925\u001b[0m     \u001b[0;32mif\u001b[0m \u001b[0mm\u001b[0m \u001b[0;34m!=\u001b[0m \u001b[0mb\u001b[0m\u001b[0;34m.\u001b[0m\u001b[0mshape\u001b[0m\u001b[0;34m[\u001b[0m\u001b[0;36m0\u001b[0m\u001b[0;34m]\u001b[0m\u001b[0;34m:\u001b[0m\u001b[0;34m\u001b[0m\u001b[0m\n\u001b[0;32m-> 1926\u001b[0;31m         \u001b[0;32mraise\u001b[0m \u001b[0mLinAlgError\u001b[0m\u001b[0;34m(\u001b[0m\u001b[0;34m'Incompatible dimensions'\u001b[0m\u001b[0;34m)\u001b[0m\u001b[0;34m\u001b[0m\u001b[0m\n\u001b[0m\u001b[1;32m   1927\u001b[0m     \u001b[0mt\u001b[0m\u001b[0;34m,\u001b[0m \u001b[0mresult_t\u001b[0m \u001b[0;34m=\u001b[0m \u001b[0m_commonType\u001b[0m\u001b[0;34m(\u001b[0m\u001b[0ma\u001b[0m\u001b[0;34m,\u001b[0m \u001b[0mb\u001b[0m\u001b[0;34m)\u001b[0m\u001b[0;34m\u001b[0m\u001b[0m\n\u001b[1;32m   1928\u001b[0m     \u001b[0mresult_real_t\u001b[0m \u001b[0;34m=\u001b[0m \u001b[0m_realType\u001b[0m\u001b[0;34m(\u001b[0m\u001b[0mresult_t\u001b[0m\u001b[0;34m)\u001b[0m\u001b[0;34m\u001b[0m\u001b[0m\n",
      "\u001b[0;31mLinAlgError\u001b[0m: Incompatible dimensions"
     ]
    }
   ],
   "source": [
    "B = Aprime.dot(la.lstsq(Sigma, A))"
   ]
  }
 ],
 "metadata": {
  "kernelspec": {
   "display_name": "Python 2",
   "language": "python",
   "name": "python2"
  },
  "language_info": {
   "codemirror_mode": {
    "name": "ipython",
    "version": 2
   },
   "file_extension": ".py",
   "mimetype": "text/x-python",
   "name": "python",
   "nbconvert_exporter": "python",
   "pygments_lexer": "ipython2",
   "version": "2.7.13"
  }
 },
 "nbformat": 4,
 "nbformat_minor": 2
}
